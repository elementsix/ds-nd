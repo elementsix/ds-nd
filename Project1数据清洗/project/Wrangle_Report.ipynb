{
 "cells": [
  {
   "cell_type": "markdown",
   "metadata": {},
   "source": [
    "author: liyong"
   ]
  },
  {
   "cell_type": "markdown",
   "metadata": {},
   "source": [
    "# 概要"
   ]
  },
  {
   "cell_type": "markdown",
   "metadata": {},
   "source": [
    "本项目目的为处理推特用户 [dog_rates](https://twitter.com/dog_rates)推特档案数据集，项目主要涉及数据集背景理解，数据收集，数据清理，数据存储，数据分析可视化，得出结论共6个部分"
   ]
  },
  {
   "cell_type": "markdown",
   "metadata": {},
   "source": [
    "# 项目背景理解"
   ]
  },
  {
   "cell_type": "markdown",
   "metadata": {},
   "source": [
    "这部分主要理解我们需要哪些数据，以及一些项目细节，主要需要数据集如下：\n",
    "\n",
    "* twitter_archive: dog_rates推特主数据集\n",
    "* image_prediction : 基于主推特数据图像预测文件\n",
    "* tweety_json: 从json.txt中提取对推特主数据集的补充数据"
   ]
  },
  {
   "cell_type": "markdown",
   "metadata": {},
   "source": [
    "细节：\n",
    "\n",
    "* 至少 8 个质量问题 和 2 个洁度问题需要清洗\n",
    "* 清理最终只能有一个主数据集"
   ]
  },
  {
   "cell_type": "markdown",
   "metadata": {},
   "source": [
    "# 数据收集"
   ]
  },
  {
   "cell_type": "markdown",
   "metadata": {},
   "source": [
    "+ **twitter_archive**  主数据集由于网络的原因，从项目提供的数据获取\n",
    "+ **image_prediction**  用request包从网络下载获取\n",
    "+ **tweety_json**       从项目提供的从API获取json 文本中提取，json文本中包含所有特征列数据，我们只提取`favorites_count , retweet_count`两个特征"
   ]
  },
  {
   "cell_type": "markdown",
   "metadata": {},
   "source": [
    "# 数据评估 "
   ]
  },
  {
   "cell_type": "markdown",
   "metadata": {},
   "source": [
    "数据评估主要发现以下几个问题,细节如下表\n",
    "\n",
    "+ df1 = `twitter_archive`\n",
    "+ df2 = `image_prediciton`\n",
    "+ df3 = `tweety_json`\n",
    "\n"
   ]
  },
  {
   "cell_type": "markdown",
   "metadata": {},
   "source": [
    "\n",
    "\n",
    "|Issue|Table|Issue Type|Dimension|Method|Column|Description|\n",
    "|------|------|-----|-----|-----|----|-----|\n",
    "|1|df1|质量|有效性|编程|tweet_id|数据类型应该为字符串类型|\n",
    "|2|df1|质量|完整性|编程|in_reply_id等|出现大量空值|\n",
    "|3|df1|质量|有效性|编程|timestamp|数据不是datatime格式|\n",
    "|4|df1|质量|准确性|编程|numerator|分子数值异常|\n",
    "|5|df1|质量|准确性|编程|denominator|分母数值异常|\n",
    "|6|df1|质量|None|目测|None|删除分析无关列|\n",
    "|7|df2|质量|有效性|编程|jpg_url|66个重复|\n",
    "|8|df1|质量|有效性|编程|retweeted|存在转发的条目需要删除|\n",
    "|9|df1|质量|None|编程|None|存在无图片的推特需要删除|\n",
    "|10|df3|质量|有效性|编程|全部列|数值类型应该为数值类|\n",
    "|11|df1|整洁度|None|目测|doggo等|狗狗地位应该是分类变量|\n",
    "|12|df3|整洁度|None|目测|None|合并到twitter_archive数据集|\n",
    "|13|df2|整洁度|None|目测|None|合并到twitter_archive数据集|"
   ]
  },
  {
   "cell_type": "markdown",
   "metadata": {},
   "source": [
    "#  数据清理"
   ]
  },
  {
   "cell_type": "markdown",
   "metadata": {},
   "source": [
    "数据清理roadmap是按照分数据集 twitter_archived,image_predicitondf3 ,tweety_json 分别进行的，最后把三个清理完的数据集合并成一个主数据集 twitter_archived_master，清理过程以及用到的方法主要如下：\n",
    "\n",
    "* 数据类型转换的问题，如：tweet_id，timestamp ,favorites_count,retweet_count 等列主要用到 **method**:   .astype(),  pd.to_datetime()\n",
    "\n",
    "\n",
    "* 删除出现大量空值列问题，如：in_reply_to_status_id,in_reply_to_user_id,retweeted_status_id,等列主要用到 **method**:  .drop(['clo1','col2'], 1)\n",
    "  \n",
    "  \n",
    "* 从分类变量重新融合为单列，如：doggo, floofer ,pupper, puppo融合为dog_stage列用到 **method** :把缺失值用`’‘` 代替，后用df.col相加要融合的列值，其中如果出现多个分类变量描述，则重新赋值（个人认为这个方法对分类变量融合比较有效）\n",
    "\n",
    "\n",
    "* 异常值调查，重新从文本提取，或删除数据，如：rating_numerator,rating_denominator,text列用到 **method** : 查找异常值来源，从文本中重新调查，做删除，或重新提取，这里主要以手动方式处理（更好的方式是用re模块的正则表达式进行处理）\n",
    "\n",
    "\n",
    "* 重复值，如：jpg_url列用到 **method** :  .duplicated(),  .drop_duplicates()\n",
    "\n",
    "\n",
    "* 数据集合并，**method** : pd.merge()\n",
    "  "
   ]
  },
  {
   "cell_type": "markdown",
   "metadata": {},
   "source": [
    "# 数据存储 与重新加载"
   ]
  },
  {
   "cell_type": "markdown",
   "metadata": {},
   "source": [
    "本项目中清理完的数据集用 **method**: pd.to_csv()进行存储，重新加载时有些数据类型会发生改变，需要注意"
   ]
  },
  {
   "cell_type": "markdown",
   "metadata": {},
   "source": [
    "# 总结"
   ]
  },
  {
   "cell_type": "markdown",
   "metadata": {},
   "source": [
    "这个数据集要完整清洗需要大量时间和精力，我只是清理其中十几个问题，清理过程涉及非常细节的部分，清理数据是一个不断迭代的过程\n"
   ]
  }
 ],
 "metadata": {
  "kernelspec": {
   "display_name": "Python 3",
   "language": "python",
   "name": "python3"
  },
  "language_info": {
   "codemirror_mode": {
    "name": "ipython",
    "version": 3
   },
   "file_extension": ".py",
   "mimetype": "text/x-python",
   "name": "python",
   "nbconvert_exporter": "python",
   "pygments_lexer": "ipython3",
   "version": "3.6.8"
  },
  "toc": {
   "base_numbering": 1,
   "nav_menu": {},
   "number_sections": true,
   "sideBar": true,
   "skip_h1_title": false,
   "title_cell": "Table of Contents",
   "title_sidebar": "Contents",
   "toc_cell": false,
   "toc_position": {},
   "toc_section_display": true,
   "toc_window_display": false
  }
 },
 "nbformat": 4,
 "nbformat_minor": 2
}
