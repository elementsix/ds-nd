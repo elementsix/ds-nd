{
 "cells": [
  {
   "cell_type": "markdown",
   "metadata": {},
   "source": [
    "https://github.com/udacity/cn-python-foundation/blob/master/best%20movie/expanddouban.py"
   ]
  },
  {
   "cell_type": "code",
   "execution_count": 2,
   "metadata": {},
   "outputs": [],
   "source": [
    "from selenium import webdriver\n",
    "import time \n",
    "\n",
    "\"\"\"\n",
    "url: the douban page we will get html from\n",
    "loadmore: whether or not click load more on the bottom \n",
    "waittime: seconds the broswer will wait after intial load and \n",
    "\"\"\" \n",
    "def getHtml(url, loadmore = False, waittime = 2):\n",
    "    browser = webdriver.Chrome('chromedriver')\n",
    "    browser.get(url)\n",
    "    time.sleep(waittime)\n",
    "    if loadmore:\n",
    "        while True:\n",
    "            try:\n",
    "                next_button = browser.find_element_by_class_name(\"more\")\n",
    "                next_button.click()\n",
    "                time.sleep(waittime)\n",
    "            except:\n",
    "                break\n",
    "    html = browser.page_source\n",
    "    browser.quit()\n",
    "    return html\n",
    "\n",
    "# for test\n",
    "#url = \"https://movie.douban.com/tag/#/?sort=S&range=9,10&tags=电影,剧情,美国\"\n",
    "#html = getHtml(url)\n",
    "#print(html) "
   ]
  },
  {
   "cell_type": "code",
   "execution_count": null,
   "metadata": {},
   "outputs": [],
   "source": []
  }
 ],
 "metadata": {
  "kernelspec": {
   "display_name": "Python 3",
   "language": "python",
   "name": "python3"
  },
  "language_info": {
   "codemirror_mode": {
    "name": "ipython",
    "version": 3
   },
   "file_extension": ".py",
   "mimetype": "text/x-python",
   "name": "python",
   "nbconvert_exporter": "python",
   "pygments_lexer": "ipython3",
   "version": "3.6.8"
  }
 },
 "nbformat": 4,
 "nbformat_minor": 2
}
